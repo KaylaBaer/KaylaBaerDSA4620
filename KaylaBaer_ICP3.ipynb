{
  "nbformat": 4,
  "nbformat_minor": 0,
  "metadata": {
    "colab": {
      "provenance": [],
      "toc_visible": true,
      "mount_file_id": "1UG98sCvw4xmjY0y-bxZYvw92KmBe5SYi",
      "authorship_tag": "ABX9TyMCs908HXyrKSgCN0rpUt5V",
      "include_colab_link": true
    },
    "kernelspec": {
      "name": "python3",
      "display_name": "Python 3"
    },
    "language_info": {
      "name": "python"
    }
  },
  "cells": [
    {
      "cell_type": "markdown",
      "metadata": {
        "id": "view-in-github",
        "colab_type": "text"
      },
      "source": [
        "<a href=\"https://colab.research.google.com/github/KaylaBaer/KaylaBaerDSA4620/blob/main/KaylaBaer_ICP3.ipynb\" target=\"_parent\"><img src=\"https://colab.research.google.com/assets/colab-badge.svg\" alt=\"Open In Colab\"/></a>"
      ]
    },
    {
      "cell_type": "code",
      "execution_count": null,
      "metadata": {
        "colab": {
          "base_uri": "https://localhost:8080/"
        },
        "id": "a7TTSkIULl-Q",
        "outputId": "d9437cfa-cc9d-44a8-cd1a-a106cf8d278d"
      },
      "outputs": [
        {
          "output_type": "stream",
          "name": "stdout",
          "text": [
            "   ID     Value Category\n",
            "0   1  0.250005        C\n",
            "1   2  0.346461        B\n",
            "2   3  0.160200        B\n",
            "3   4  0.952767        B\n",
            "4   5  0.485010        D\n",
            "5   6  0.836114        D\n",
            "6   7  0.719200        C\n",
            "7   8  0.241868        C\n",
            "8   9  0.170326        D\n",
            "9  10  0.369581        A\n"
          ]
        }
      ],
      "source": [
        "import pandas as pd\n",
        "import numpy as np\n",
        "\n",
        "\n",
        "\n",
        "data = {\n",
        "    'ID': np.arange(1, 1000001),\n",
        "    'Value':np.random.rand(1000000),\n",
        "    'Category': np.random.choice(['A', 'B', 'C', 'D'], size = 1000000)\n",
        "}\n",
        "data = pd.DataFrame(data)\n",
        "print(data.head(10))"
      ]
    },
    {
      "cell_type": "code",
      "source": [
        "print(data.loc[:, 'Value'])"
      ],
      "metadata": {
        "colab": {
          "base_uri": "https://localhost:8080/"
        },
        "id": "5EJdQDtEOdZa",
        "outputId": "6c485a19-f290-4c4c-a3ec-b8f0f79e5dfe"
      },
      "execution_count": null,
      "outputs": [
        {
          "output_type": "stream",
          "name": "stdout",
          "text": [
            "0         0.250005\n",
            "1         0.346461\n",
            "2         0.160200\n",
            "3         0.952767\n",
            "4         0.485010\n",
            "            ...   \n",
            "999995    0.887479\n",
            "999996    0.145742\n",
            "999997    0.280185\n",
            "999998    0.502649\n",
            "999999    0.623603\n",
            "Name: Value, Length: 1000000, dtype: float64\n"
          ]
        }
      ]
    },
    {
      "cell_type": "code",
      "source": [
        "data = data.rename(columns={'ID': 'ID number', 'Value': 'Random value', 'Category': 'Choice'})\n",
        "print(data.head(5))"
      ],
      "metadata": {
        "colab": {
          "base_uri": "https://localhost:8080/"
        },
        "id": "Xnq1W-IqPH4x",
        "outputId": "63939139-b4e2-433a-c64a-eb16648783ec"
      },
      "execution_count": null,
      "outputs": [
        {
          "output_type": "stream",
          "name": "stdout",
          "text": [
            "   ID number  Random value Choice\n",
            "0          1      0.250005      C\n",
            "1          2      0.346461      B\n",
            "2          3      0.160200      B\n",
            "3          4      0.952767      B\n",
            "4          5      0.485010      D\n"
          ]
        }
      ]
    },
    {
      "cell_type": "code",
      "source": [
        "import pandas as pd\n",
        "pd.set_option('display.max_rows', None)\n",
        "#pd.set_option('display.max_columns', None)\n",
        "student_data = pd.DataFrame({\n",
        "    'school_code': ['s001', 's002', 's003', 's001', 's002', 's004'],\n",
        "    'class': ['V', 'V', 'VI', 'VI', 'V', 'VI'],\n",
        "    'name': ['Alberto Franco', 'Gino Mcneill', 'Ryan Parkes', 'Eesha Hinton', 'Gino Mcneill', 'David Parkes'],\n",
        "    'date_of_birth': ['15/05/2002', '17/05/2002', '16/02/1999', '25/09/1998', '11/05/2002', '15/09/1997'],\n",
        "    'age': [12, 12, 13, 13, 14, 12],\n",
        "    'height': [173, 192, 186, 167, 151, 159],\n",
        "    'weight': [35, 32, 33, 30, 31, 32],\n",
        "    'address': ['street1', 'street2', 'street3', 'street1', 'street2', 'street4'],\n",
        "    'index': ['S1', 'S2', 'S3', 'S4', 'S5', 'S6']\n",
        "})\n",
        "print(\"original DataFrame: \")\n",
        "print(student_data)\n",
        "print('\\nSplit the said data on school_code, class Wise: ')\n",
        "result = student_data.groupby(['school_code', 'class'])\n",
        "for name, group in result:\n",
        "  print(\"\\nGroup:\")\n",
        "  print(name)\n",
        "  print(group)"
      ],
      "metadata": {
        "colab": {
          "base_uri": "https://localhost:8080/"
        },
        "id": "TAuhwgxQP6A3",
        "outputId": "f438785d-cd9a-4917-d6aa-9d91ea6c31a7"
      },
      "execution_count": null,
      "outputs": [
        {
          "output_type": "stream",
          "name": "stdout",
          "text": [
            "original DataFrame: \n",
            "  school_code class            name date_of_birth  age  height  weight  \\\n",
            "0        s001     V  Alberto Franco    15/05/2002   12     173      35   \n",
            "1        s002     V    Gino Mcneill    17/05/2002   12     192      32   \n",
            "2        s003    VI     Ryan Parkes    16/02/1999   13     186      33   \n",
            "3        s001    VI    Eesha Hinton    25/09/1998   13     167      30   \n",
            "4        s002     V    Gino Mcneill    11/05/2002   14     151      31   \n",
            "5        s004    VI    David Parkes    15/09/1997   12     159      32   \n",
            "\n",
            "   address index  \n",
            "0  street1    S1  \n",
            "1  street2    S2  \n",
            "2  street3    S3  \n",
            "3  street1    S4  \n",
            "4  street2    S5  \n",
            "5  street4    S6  \n",
            "\n",
            "Split the said data on school_code, class Wise: \n",
            "\n",
            "Group:\n",
            "('s001', 'V')\n",
            "  school_code class            name date_of_birth  age  height  weight  \\\n",
            "0        s001     V  Alberto Franco    15/05/2002   12     173      35   \n",
            "\n",
            "   address index  \n",
            "0  street1    S1  \n",
            "\n",
            "Group:\n",
            "('s001', 'VI')\n",
            "  school_code class          name date_of_birth  age  height  weight  address  \\\n",
            "3        s001    VI  Eesha Hinton    25/09/1998   13     167      30  street1   \n",
            "\n",
            "  index  \n",
            "3    S4  \n",
            "\n",
            "Group:\n",
            "('s002', 'V')\n",
            "  school_code class          name date_of_birth  age  height  weight  address  \\\n",
            "1        s002     V  Gino Mcneill    17/05/2002   12     192      32  street2   \n",
            "4        s002     V  Gino Mcneill    11/05/2002   14     151      31  street2   \n",
            "\n",
            "  index  \n",
            "1    S2  \n",
            "4    S5  \n",
            "\n",
            "Group:\n",
            "('s003', 'VI')\n",
            "  school_code class         name date_of_birth  age  height  weight  address  \\\n",
            "2        s003    VI  Ryan Parkes    16/02/1999   13     186      33  street3   \n",
            "\n",
            "  index  \n",
            "2    S3  \n",
            "\n",
            "Group:\n",
            "('s004', 'VI')\n",
            "  school_code class          name date_of_birth  age  height  weight  address  \\\n",
            "5        s004    VI  David Parkes    15/09/1997   12     159      32  street4   \n",
            "\n",
            "  index  \n",
            "5    S6  \n"
          ]
        }
      ]
    },
    {
      "cell_type": "code",
      "source": [
        "df = pd.read_csv('data.csv')\n",
        "column_averages = df.mean()\n",
        "print(\"The mean of each column: \")\n",
        "print(column_averages)"
      ],
      "metadata": {
        "colab": {
          "base_uri": "https://localhost:8080/"
        },
        "id": "C9ctADd5TaG9",
        "outputId": "612ad504-0924-46be-f0fa-8a7292d9bd35"
      },
      "execution_count": 7,
      "outputs": [
        {
          "output_type": "stream",
          "name": "stdout",
          "text": [
            "The mean of each column: \n",
            "Duration     63.846154\n",
            "Pulse       107.461538\n",
            "Maxpulse    134.047337\n",
            "Calories    375.790244\n",
            "dtype: float64\n"
          ]
        }
      ]
    },
    {
      "cell_type": "code",
      "source": [
        "print(\"The median of each column: \")\n",
        "print(df.median())"
      ],
      "metadata": {
        "colab": {
          "base_uri": "https://localhost:8080/"
        },
        "id": "u_qE5BnmY6bZ",
        "outputId": "0f1c3e63-b6e3-44ec-a4f9-7894d062bd5a"
      },
      "execution_count": 8,
      "outputs": [
        {
          "output_type": "stream",
          "name": "stdout",
          "text": [
            "The median of each column: \n",
            "Duration     60.0\n",
            "Pulse       105.0\n",
            "Maxpulse    131.0\n",
            "Calories    318.6\n",
            "dtype: float64\n"
          ]
        }
      ]
    },
    {
      "cell_type": "code",
      "source": [
        "print(\"The standard deviation of each column: \")\n",
        "print(df.std())"
      ],
      "metadata": {
        "colab": {
          "base_uri": "https://localhost:8080/"
        },
        "id": "t50cncH9ZP27",
        "outputId": "69c8165c-2b0c-412c-dc58-62f68c677489"
      },
      "execution_count": 9,
      "outputs": [
        {
          "output_type": "stream",
          "name": "stdout",
          "text": [
            "The standard deviation of each column: \n",
            "Duration     42.299949\n",
            "Pulse        14.510259\n",
            "Maxpulse     16.450434\n",
            "Calories    266.379919\n",
            "dtype: float64\n"
          ]
        }
      ]
    },
    {
      "cell_type": "code",
      "source": [
        "print(\"Minimum value in each column: \")\n",
        "print(df.min())"
      ],
      "metadata": {
        "colab": {
          "base_uri": "https://localhost:8080/"
        },
        "id": "IkZPAHFBZz8E",
        "outputId": "be64d4fa-b226-4f2a-efa1-c1c8e855a943"
      },
      "execution_count": 10,
      "outputs": [
        {
          "output_type": "stream",
          "name": "stdout",
          "text": [
            "Minimum value in each column: \n",
            "Duration     15.0\n",
            "Pulse        80.0\n",
            "Maxpulse    100.0\n",
            "Calories     50.3\n",
            "dtype: float64\n"
          ]
        }
      ]
    },
    {
      "cell_type": "code",
      "source": [
        "print(\"Maximum value in each column: \")\n",
        "print(df.max())"
      ],
      "metadata": {
        "colab": {
          "base_uri": "https://localhost:8080/"
        },
        "id": "3vrJfEVEZ_Fn",
        "outputId": "c2de1edc-623a-4eda-c97a-f5c56be7b34e"
      },
      "execution_count": 11,
      "outputs": [
        {
          "output_type": "stream",
          "name": "stdout",
          "text": [
            "Maximum value in each column: \n",
            "Duration     300.0\n",
            "Pulse        159.0\n",
            "Maxpulse     184.0\n",
            "Calories    1860.4\n",
            "dtype: float64\n"
          ]
        }
      ]
    },
    {
      "cell_type": "code",
      "source": [
        "null_rows = df[df.isnull().any(axis=1)]\n",
        "print(null_rows)\n",
        "df.fillna(df.mean(), inplace=True)"
      ],
      "metadata": {
        "colab": {
          "base_uri": "https://localhost:8080/"
        },
        "id": "j8GSdbeOfe7P",
        "outputId": "bbc77447-5080-4d2e-84ac-6a3f9218876a"
      },
      "execution_count": 12,
      "outputs": [
        {
          "output_type": "stream",
          "name": "stdout",
          "text": [
            "     Duration  Pulse  Maxpulse  Calories\n",
            "17         45     90       112       NaN\n",
            "27         60    103       132       NaN\n",
            "91         45    107       137       NaN\n",
            "118        60    105       125       NaN\n",
            "141        60     97       127       NaN\n"
          ]
        }
      ]
    },
    {
      "cell_type": "code",
      "source": [
        "filtered_df = df[(df['Calories'] <= 1000) & (df['Calories'] >= 500)]\n",
        "print(filtered_df)"
      ],
      "metadata": {
        "colab": {
          "base_uri": "https://localhost:8080/"
        },
        "id": "bF-35zFRf_H3",
        "outputId": "7b27603e-1493-4817-a8a6-258efcc810f6"
      },
      "execution_count": 22,
      "outputs": [
        {
          "output_type": "stream",
          "name": "stdout",
          "text": [
            "     Duration  Pulse  Maxpulse  Calories\n",
            "51         80    123       146     643.1\n",
            "62        160    109       135     853.0\n",
            "65        180     90       130     800.4\n",
            "66        150    105       135     873.4\n",
            "67        150    107       130     816.0\n",
            "72         90    100       127     700.0\n",
            "73        150     97       127     953.2\n",
            "75         90     98       125     563.2\n",
            "78        120    100       130     500.4\n",
            "83        120    100       130     500.0\n",
            "90        180    101       127     600.1\n",
            "99         90     93       124     604.1\n",
            "101        90     90       110     500.0\n",
            "102        90     90       100     500.0\n",
            "103        90     90       100     500.4\n",
            "106       180     90       120     800.3\n",
            "108        90     90       120     500.3\n"
          ]
        }
      ]
    },
    {
      "cell_type": "code",
      "source": [
        "df['Calories'] = df['Calories'].astype('int64')"
      ],
      "metadata": {
        "id": "MX--gk9Kw5cL"
      },
      "execution_count": 36,
      "outputs": []
    },
    {
      "cell_type": "code",
      "source": [
        "df.plot.scatter(x = 'Duration', y = 'Calories', s = 100);"
      ],
      "metadata": {
        "colab": {
          "base_uri": "https://localhost:8080/",
          "height": 139
        },
        "id": "9R6NM-hQyhPv",
        "outputId": "838d0ce6-bc5a-4026-e904-50484cf3acb8"
      },
      "execution_count": 38,
      "outputs": [
        {
          "output_type": "error",
          "ename": "AttributeError",
          "evalue": "'numpy.dtypes.Float64DType' object has no attribute 'plot'",
          "traceback": [
            "\u001b[0;31m---------------------------------------------------------------------------\u001b[0m",
            "\u001b[0;31mAttributeError\u001b[0m                            Traceback (most recent call last)",
            "\u001b[0;32m<ipython-input-38-a6126453d986>\u001b[0m in \u001b[0;36m<cell line: 1>\u001b[0;34m()\u001b[0m\n\u001b[0;32m----> 1\u001b[0;31m \u001b[0mdf\u001b[0m\u001b[0;34m.\u001b[0m\u001b[0mplot\u001b[0m\u001b[0;34m.\u001b[0m\u001b[0mscatter\u001b[0m\u001b[0;34m(\u001b[0m\u001b[0mx\u001b[0m \u001b[0;34m=\u001b[0m \u001b[0;34m'Duration'\u001b[0m\u001b[0;34m,\u001b[0m \u001b[0my\u001b[0m \u001b[0;34m=\u001b[0m \u001b[0;34m'Pulse'\u001b[0m\u001b[0;34m,\u001b[0m \u001b[0ms\u001b[0m \u001b[0;34m=\u001b[0m \u001b[0;36m100\u001b[0m\u001b[0;34m)\u001b[0m\u001b[0;34m;\u001b[0m\u001b[0;34m\u001b[0m\u001b[0;34m\u001b[0m\u001b[0m\n\u001b[0m",
            "\u001b[0;31mAttributeError\u001b[0m: 'numpy.dtypes.Float64DType' object has no attribute 'plot'"
          ]
        }
      ]
    },
    {
      "cell_type": "code",
      "source": [
        "from google.colab import drive\n",
        "drive.mount('/content/drive')"
      ],
      "metadata": {
        "colab": {
          "base_uri": "https://localhost:8080/"
        },
        "id": "fH5UctcWVAh4",
        "outputId": "2adcc236-0375-4f90-97a9-dc9246b18308"
      },
      "execution_count": null,
      "outputs": [
        {
          "output_type": "stream",
          "name": "stdout",
          "text": [
            "Mounted at /content/drive\n"
          ]
        }
      ]
    },
    {
      "cell_type": "code",
      "source": [],
      "metadata": {
        "id": "uqAG5GzKTNfE"
      },
      "execution_count": 5,
      "outputs": []
    }
  ]
}