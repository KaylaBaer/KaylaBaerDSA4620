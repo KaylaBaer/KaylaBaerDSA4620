{
  "nbformat": 4,
  "nbformat_minor": 0,
  "metadata": {
    "colab": {
      "provenance": [],
      "toc_visible": true,
      "authorship_tag": "ABX9TyMBrjCEggM/yBYvXklSb4VN",
      "include_colab_link": true
    },
    "kernelspec": {
      "name": "python3",
      "display_name": "Python 3"
    },
    "language_info": {
      "name": "python"
    }
  },
  "cells": [
    {
      "cell_type": "markdown",
      "metadata": {
        "id": "view-in-github",
        "colab_type": "text"
      },
      "source": [
        "<a href=\"https://colab.research.google.com/github/KaylaBaer/KaylaBaerDSA4620/blob/main/KaylaBaer_ICP2.ipynb\" target=\"_parent\"><img src=\"https://colab.research.google.com/assets/colab-badge.svg\" alt=\"Open In Colab\"/></a>"
      ]
    },
    {
      "cell_type": "code",
      "execution_count": null,
      "metadata": {
        "id": "R_bHiBeTox7N"
      },
      "outputs": [],
      "source": [
        "# The difference between Counter.count and self.count is\n",
        "# that self indicates an instance of the class where Counter does not\n",
        "\n",
        "# a.get_counts() will return 2\n",
        "# b.get_counts() will return 1\n",
        "\n",
        "# Since the method uses both self and Counter, the variable will get\n",
        "# incremented for both the class and the instance of the variable"
      ]
    },
    {
      "cell_type": "code",
      "source": [
        "def sumAll(*args):\n",
        "  sumOf = sum(args)\n",
        "  return sumOf\n",
        "\n",
        "print(sumAll(1, 2, 3))"
      ],
      "metadata": {
        "colab": {
          "base_uri": "https://localhost:8080/"
        },
        "id": "GgZBGvu_tqdP",
        "outputId": "ffe792d9-6df5-468e-c461-b5dcd2ce0dc2"
      },
      "execution_count": 32,
      "outputs": [
        {
          "output_type": "stream",
          "name": "stdout",
          "text": [
            "6\n"
          ]
        }
      ]
    },
    {
      "cell_type": "code",
      "source": [
        "def first_word(students):\n",
        "  students.sort()\n",
        "  return students[0]\n",
        "students = ['Kayla', 'Mary', 'Jimmy', 'Aaron']\n",
        "print(first_word(students))"
      ],
      "metadata": {
        "colab": {
          "base_uri": "https://localhost:8080/"
        },
        "id": "RNSyTzdIuyXp",
        "outputId": "47104d36-659c-4a01-9e7d-6c4b930c0540"
      },
      "execution_count": 11,
      "outputs": [
        {
          "output_type": "stream",
          "name": "stdout",
          "text": [
            "Aaron\n"
          ]
        }
      ]
    },
    {
      "cell_type": "code",
      "source": [
        "class Employee:\n",
        "  count = 0\n",
        "  totalSalary = 0\n",
        "  def __init__(self, name, family, salary, department):\n",
        "    self.name = name\n",
        "    self.family = family\n",
        "    self.salary = salary\n",
        "    self.department = department\n",
        "    Employee.count += 1\n",
        "    Employee.totalSalary += int(salary)\n",
        "  def avgSalary():\n",
        "      avg = Employee.totalSalary / Employee.count\n",
        "      return avg\n",
        "\n",
        "e1 = Employee('Kayla', 'family', '60000', 'IT')\n",
        "e2 = Employee('Mary', 'family', '80000', 'IT')\n",
        "\n",
        "Employee.avgSalary()\n",
        "\n"
      ],
      "metadata": {
        "id": "7iu4hl_Iqnhh",
        "colab": {
          "base_uri": "https://localhost:8080/"
        },
        "outputId": "0cac3045-51bd-411d-d376-45cb17133a62"
      },
      "execution_count": 25,
      "outputs": [
        {
          "output_type": "stream",
          "name": "stdout",
          "text": [
            "70000.0\n"
          ]
        },
        {
          "output_type": "execute_result",
          "data": {
            "text/plain": [
              "70000.0"
            ]
          },
          "metadata": {},
          "execution_count": 25
        }
      ]
    },
    {
      "cell_type": "code",
      "source": [
        "class FullTimeEmployee(Employee):\n",
        "  def __init__(self, name, family, salary, department):\n",
        "    super().__init__(name, family, salary, department)\n",
        "\n",
        "e3 = FullTimeEmployee('Jimmy', 'family', '50000', 'HR')\n",
        "e4 = FullTimeEmployee('Sue', 'family', '90000', 'HR')\n",
        "\n",
        "FullTimeEmployee.avgSalary()"
      ],
      "metadata": {
        "colab": {
          "base_uri": "https://localhost:8080/"
        },
        "id": "DIIScC9Tx5lT",
        "outputId": "a745d69a-ce64-4cbc-9f75-2f1f7b2f44a9"
      },
      "execution_count": 27,
      "outputs": [
        {
          "output_type": "stream",
          "name": "stdout",
          "text": [
            "66000.0\n"
          ]
        },
        {
          "output_type": "execute_result",
          "data": {
            "text/plain": [
              "66000.0"
            ]
          },
          "metadata": {},
          "execution_count": 27
        }
      ]
    }
  ]
}