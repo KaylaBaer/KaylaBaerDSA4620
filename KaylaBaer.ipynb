{
  "nbformat": 4,
  "nbformat_minor": 0,
  "metadata": {
    "colab": {
      "provenance": [],
      "authorship_tag": "ABX9TyNeoOQA0Ow3tayqZ168tun3",
      "include_colab_link": true
    },
    "kernelspec": {
      "name": "python3",
      "display_name": "Python 3"
    },
    "language_info": {
      "name": "python"
    }
  },
  "cells": [
    {
      "cell_type": "markdown",
      "metadata": {
        "id": "view-in-github",
        "colab_type": "text"
      },
      "source": [
        "<a href=\"https://colab.research.google.com/github/KaylaBaer/KaylaBaerDSA4620/blob/main/KaylaBaer.ipynb\" target=\"_parent\"><img src=\"https://colab.research.google.com/assets/colab-badge.svg\" alt=\"Open In Colab\"/></a>"
      ]
    },
    {
      "cell_type": "code",
      "execution_count": 7,
      "metadata": {
        "colab": {
          "base_uri": "https://localhost:8080/"
        },
        "id": "tpwGf0W8thTu",
        "outputId": "f7ae2782-5275-40a3-c3d8-cf63d01201d2"
      },
      "outputs": [
        {
          "output_type": "stream",
          "name": "stdout",
          "text": [
            "Enter \"Python\" by character: p\n",
            "Enter \"Python\" by character: y\n",
            "Enter \"Python\" by character: t\n",
            "Enter \"Python\" by character: h\n",
            "Enter \"Python\" by character: o\n",
            "Enter \"Python\" by character: n\n",
            "htyp\n"
          ]
        }
      ],
      "source": [
        "pythonString = ''   # holds the characters that the user enters\n",
        "for i in range(6):\n",
        "  pythonString += input(f\"Enter \\\"Python\\\" by character: \")\n",
        "\n",
        "newString = ''      # Holds the shortened string\n",
        "for i in range(len(pythonString) - 2):\n",
        "  newString += pythonString[i]\n",
        "\n",
        "reversedString = '' # Holds reversed string\n",
        "for i in range(len(newString) - 1, -1, -1):   # Move backwards through the string to add them in reversed order\n",
        "  reversedString += newString[i]\n",
        "\n",
        "print(reversedString)"
      ]
    },
    {
      "cell_type": "code",
      "source": [
        "userNum1 = input(\"Enter a number: \")\n",
        "userNum2 = input(\"Enter another number: \")\n",
        "\n",
        "sum = int(userNum1) + int(userNum2)\n",
        "print(f\"{userNum1} + {userNum2} = {sum}\")\n",
        "\n",
        "product = int(userNum1) * int(userNum2)\n",
        "print(f\"{userNum1} * {userNum2} = {product}\")\n",
        "\n",
        "quotient = int(userNum1) / int(userNum2)\n",
        "print(f\"{userNum1} / {userNum2} = {quotient}\")\n",
        "\n",
        "mod = int(userNum1) % int(userNum2)\n",
        "print(f\"{userNum1} % {userNum2} = {mod}\")"
      ],
      "metadata": {
        "colab": {
          "base_uri": "https://localhost:8080/"
        },
        "id": "yh-cPlWa4lLA",
        "outputId": "1a3b2772-5a8e-4618-ac5c-a322443b18af"
      },
      "execution_count": 8,
      "outputs": [
        {
          "output_type": "stream",
          "name": "stdout",
          "text": [
            "Enter a number: 2\n",
            "Enter another number: 4\n",
            "2 + 4 = 6\n",
            "2 * 4 = 8\n",
            "2 / 4 = 0.5\n",
            "2 % 4 = 2\n"
          ]
        }
      ]
    },
    {
      "cell_type": "code",
      "source": [
        "from re import split\n",
        "userInput = input(\"Enter a sentence: \")\n",
        "splitSentence = userInput.split()\n",
        "for i in range(len(splitSentence)):\n",
        "  if splitSentence[i] == \"python\":\n",
        "    splitSentence[i] = \"pythons\"\n",
        "  print(splitSentence[i] + \" \", end = '')\n"
      ],
      "metadata": {
        "colab": {
          "base_uri": "https://localhost:8080/"
        },
        "id": "1zced3kd-BzK",
        "outputId": "fc44de77-86a9-4708-9e7e-5e5da6998ebd"
      },
      "execution_count": 9,
      "outputs": [
        {
          "output_type": "stream",
          "name": "stdout",
          "text": [
            "Enter a sentence: This is python\n",
            "This is pythons "
          ]
        }
      ]
    },
    {
      "cell_type": "code",
      "source": [
        "userGrade = int(input(\"Enter your grade: \"))\n",
        "\n",
        "if userGrade >= 90:\n",
        "  print('A')\n",
        "elif userGrade >= 80:\n",
        "  print('B')\n",
        "elif userGrade >= 70:\n",
        "  print('C')\n",
        "elif userGrade >= 60:\n",
        "  print('D')\n",
        "else:\n",
        "  print('F')"
      ],
      "metadata": {
        "colab": {
          "base_uri": "https://localhost:8080/"
        },
        "id": "lZSfCUW3FxoO",
        "outputId": "b8852cb3-66bd-4aa3-8c56-c264d77970bf"
      },
      "execution_count": 10,
      "outputs": [
        {
          "output_type": "stream",
          "name": "stdout",
          "text": [
            "Enter your grade: 79\n",
            "C\n"
          ]
        }
      ]
    },
    {
      "cell_type": "code",
      "source": [
        "\n",
        "userInputList = [23, 'Python', 23.8]\n",
        "typeList = []\n",
        "for i in range(len(userInputList)):\n",
        "  typeList.append(type(userInputList[i]))\n",
        "print(typeList)"
      ],
      "metadata": {
        "colab": {
          "base_uri": "https://localhost:8080/"
        },
        "id": "VSUZq2JcdqcX",
        "outputId": "72cc2495-4f13-430e-fed9-3a3ac7c9e77b"
      },
      "execution_count": 1,
      "outputs": [
        {
          "output_type": "stream",
          "name": "stdout",
          "text": [
            "[<class 'int'>, <class 'str'>, <class 'float'>]\n"
          ]
        }
      ]
    },
    {
      "cell_type": "code",
      "source": [
        "IT_companies = {'Facebook', 'Google', 'Microsoft', 'Apple', 'IBM', 'Oracle', 'Amazon'}\n",
        "A = {19, 22, 24, 20, 25, 26}\n",
        "B = {19, 22, 20, 25, 26, 24, 28, 27}\n",
        "age = [22, 19, 24, 25, 26, 24, 25, 24]\n",
        "\n",
        "print(f\"Length of IT_companies: {len(IT_companies)}\")\n",
        "\n",
        "IT_companies.add('Twitter')\n",
        "print(f\"Add Twitter to the set: {IT_companies}\")\n",
        "\n",
        "IT_companies.remove('Facebook')\n",
        "print(f\"Remove Facebook from the set: {IT_companies}\")\n",
        "\n",
        "print(\"What is the difference between remove and discard? Remove will throw an error if the value entered does not exist, discard does not.\")\n",
        "\n",
        "print(f\"Combine A & B: {A | B}\")\n",
        "\n",
        "print(f\"Find the intersection between A & B: {A & B}\")\n",
        "\n",
        "print(\"Yes, A is a subset of B.\")\n",
        "\n",
        "print(\"No, A and B are not disjointed.\")\n",
        "\n",
        "print(f\"Combine A and B: {A | B}\")\n",
        "print(f\"Combine B and A: {B | A}\")\n",
        "\n",
        "print(f\"The symmetric differences between A and B are: {A & B}\")\n",
        "\n",
        "del A\n",
        "del B\n",
        "print(f\"Remove sets A and B\")\n",
        "\n",
        "ageSet = set(age)\n",
        "print(f\"Change age to a set: {ageSet}\")\n",
        "print(f\"Length of list: {len(age)}\")\n",
        "print(f\"Length of set: {len(ageSet)}\")\n"
      ],
      "metadata": {
        "colab": {
          "base_uri": "https://localhost:8080/"
        },
        "id": "Taj8T_sGgNMk",
        "outputId": "acbf2bd4-98c6-4199-d594-e2f78aca08ff"
      },
      "execution_count": 6,
      "outputs": [
        {
          "output_type": "stream",
          "name": "stdout",
          "text": [
            "Length of IT_companies: 7\n",
            "Add Twitter to the set: {'Apple', 'Amazon', 'Google', 'Twitter', 'Facebook', 'Oracle', 'Microsoft', 'IBM'}\n",
            "Remove Facebook from the set: {'Apple', 'Amazon', 'Google', 'Twitter', 'Oracle', 'Microsoft', 'IBM'}\n",
            "What is the difference between remove and discard? Remove will throw an error if the value entered does not exist, discard does not.\n",
            "Combine A & B: {19, 20, 22, 24, 25, 26, 27, 28}\n",
            "Find the intersection between A & B: {19, 20, 22, 24, 25, 26}\n",
            "Yes, A is a subset of B.\n",
            "No, A and B are not disjointed.\n",
            "Combine A and B: {19, 20, 22, 24, 25, 26, 27, 28}\n",
            "Combine B and A: {19, 20, 22, 24, 25, 26, 27, 28}\n",
            "The symmetric differences between A and B are: {19, 20, 22, 24, 25, 26}\n",
            "Remove sets A and B\n",
            "Change age to a set: {19, 22, 24, 25, 26}\n",
            "Length of list: 8\n",
            "Length of set: 5\n"
          ]
        }
      ]
    },
    {
      "cell_type": "markdown",
      "source": [],
      "metadata": {
        "id": "R4o_Zs4Lx8N7"
      }
    }
  ]
}